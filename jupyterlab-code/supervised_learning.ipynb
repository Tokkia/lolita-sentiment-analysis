{
 "cells": [
  {
   "cell_type": "code",
   "execution_count": 95,
   "id": "b85fa008",
   "metadata": {},
   "outputs": [],
   "source": [
    "# load data\n",
    "import pandas as pd\n",
    "lolita = pd.read_csv(\"cleaned_goodreads_reviews.csv\", index_col=0)\n",
    "tfidf_df = pd.read_csv(\"all_tfidf.csv\", index_col=0)"
   ]
  },
  {
   "cell_type": "code",
   "execution_count": 96,
   "id": "040d929c",
   "metadata": {},
   "outputs": [],
   "source": [
    "# select features from tf-idf dataframe to use as predictors\n",
    "selected_words = ['year', 'old', 'subject', 'unreliable', 'grown', 'girl', 'sure', 'crime'] \n",
    "select_df = tfidf_df.loc[:, selected_words]"
   ]
  },
  {
   "cell_type": "code",
   "execution_count": 98,
   "id": "b49ef5c1",
   "metadata": {},
   "outputs": [],
   "source": [
    "# re-index reviews dataframe to merge with tf-idf dataframe\n",
    "lolita = lolita.set_index(select_df.index)\n",
    "df = lolita.join(select_df)\n",
    "\n",
    "# drop observations that lack a star rating\n",
    "df = df.dropna()"
   ]
  },
  {
   "cell_type": "code",
   "execution_count": 99,
   "id": "e1aa3509",
   "metadata": {},
   "outputs": [
    {
     "data": {
      "text/html": [
       "<div>\n",
       "<style scoped>\n",
       "    .dataframe tbody tr th:only-of-type {\n",
       "        vertical-align: middle;\n",
       "    }\n",
       "\n",
       "    .dataframe tbody tr th {\n",
       "        vertical-align: top;\n",
       "    }\n",
       "\n",
       "    .dataframe thead th {\n",
       "        text-align: right;\n",
       "    }\n",
       "</style>\n",
       "<table border=\"1\" class=\"dataframe\">\n",
       "  <thead>\n",
       "    <tr style=\"text-align: right;\">\n",
       "      <th></th>\n",
       "      <th>reviews</th>\n",
       "      <th>rating</th>\n",
       "      <th>year</th>\n",
       "      <th>old</th>\n",
       "      <th>subject</th>\n",
       "      <th>unreliable</th>\n",
       "      <th>grown</th>\n",
       "      <th>girl</th>\n",
       "      <th>sure</th>\n",
       "      <th>crime</th>\n",
       "    </tr>\n",
       "  </thead>\n",
       "  <tbody>\n",
       "    <tr>\n",
       "      <th>0</th>\n",
       "      <td>local bookseller ever read firmly going either...</td>\n",
       "      <td>5.0</td>\n",
       "      <td>0.068522</td>\n",
       "      <td>0.072439</td>\n",
       "      <td>0.036109</td>\n",
       "      <td>0.02865</td>\n",
       "      <td>0.000000</td>\n",
       "      <td>0.000000</td>\n",
       "      <td>0.00000</td>\n",
       "      <td>0.071625</td>\n",
       "    </tr>\n",
       "    <tr>\n",
       "      <th>1</th>\n",
       "      <td>nymph nymphet never think year old way stain b...</td>\n",
       "      <td>5.0</td>\n",
       "      <td>0.047265</td>\n",
       "      <td>0.049967</td>\n",
       "      <td>0.066419</td>\n",
       "      <td>0.00000</td>\n",
       "      <td>0.000000</td>\n",
       "      <td>0.000000</td>\n",
       "      <td>0.00000</td>\n",
       "      <td>0.019762</td>\n",
       "    </tr>\n",
       "    <tr>\n",
       "      <th>2</th>\n",
       "      <td>going embarrassing know reading enjoying book ...</td>\n",
       "      <td>5.0</td>\n",
       "      <td>0.078394</td>\n",
       "      <td>0.062156</td>\n",
       "      <td>0.000000</td>\n",
       "      <td>0.00000</td>\n",
       "      <td>0.062931</td>\n",
       "      <td>0.074245</td>\n",
       "      <td>0.00000</td>\n",
       "      <td>0.049166</td>\n",
       "    </tr>\n",
       "    <tr>\n",
       "      <th>3</th>\n",
       "      <td>even going write review finishing honestly man...</td>\n",
       "      <td>4.0</td>\n",
       "      <td>0.000000</td>\n",
       "      <td>0.000000</td>\n",
       "      <td>0.000000</td>\n",
       "      <td>0.00000</td>\n",
       "      <td>0.000000</td>\n",
       "      <td>0.000000</td>\n",
       "      <td>0.00000</td>\n",
       "      <td>0.000000</td>\n",
       "    </tr>\n",
       "    <tr>\n",
       "      <th>4</th>\n",
       "      <td>first read book every second pride reader dist...</td>\n",
       "      <td>4.0</td>\n",
       "      <td>0.000000</td>\n",
       "      <td>0.000000</td>\n",
       "      <td>0.000000</td>\n",
       "      <td>0.00000</td>\n",
       "      <td>0.000000</td>\n",
       "      <td>0.000000</td>\n",
       "      <td>0.07359</td>\n",
       "      <td>0.000000</td>\n",
       "    </tr>\n",
       "  </tbody>\n",
       "</table>\n",
       "</div>"
      ],
      "text/plain": [
       "                                             reviews  rating      year  \\\n",
       "0  local bookseller ever read firmly going either...     5.0  0.068522   \n",
       "1  nymph nymphet never think year old way stain b...     5.0  0.047265   \n",
       "2  going embarrassing know reading enjoying book ...     5.0  0.078394   \n",
       "3  even going write review finishing honestly man...     4.0  0.000000   \n",
       "4  first read book every second pride reader dist...     4.0  0.000000   \n",
       "\n",
       "        old   subject  unreliable     grown      girl     sure     crime  \n",
       "0  0.072439  0.036109     0.02865  0.000000  0.000000  0.00000  0.071625  \n",
       "1  0.049967  0.066419     0.00000  0.000000  0.000000  0.00000  0.019762  \n",
       "2  0.062156  0.000000     0.00000  0.062931  0.074245  0.00000  0.049166  \n",
       "3  0.000000  0.000000     0.00000  0.000000  0.000000  0.00000  0.000000  \n",
       "4  0.000000  0.000000     0.00000  0.000000  0.000000  0.07359  0.000000  "
      ]
     },
     "execution_count": 99,
     "metadata": {},
     "output_type": "execute_result"
    }
   ],
   "source": [
    "df.head()"
   ]
  },
  {
   "cell_type": "code",
   "execution_count": 100,
   "id": "7595435d",
   "metadata": {},
   "outputs": [
    {
     "data": {
      "text/plain": [
       "rating\n",
       "5.0    2967\n",
       "4.0    1249\n",
       "3.0     398\n",
       "1.0     199\n",
       "2.0     199\n",
       "Name: count, dtype: int64"
      ]
     },
     "execution_count": 100,
     "metadata": {},
     "output_type": "execute_result"
    }
   ],
   "source": [
    "df['rating'].value_counts()"
   ]
  },
  {
   "cell_type": "code",
   "execution_count": 101,
   "id": "3f676c21",
   "metadata": {},
   "outputs": [
    {
     "data": {
      "text/html": [
       "<div>\n",
       "<style scoped>\n",
       "    .dataframe tbody tr th:only-of-type {\n",
       "        vertical-align: middle;\n",
       "    }\n",
       "\n",
       "    .dataframe tbody tr th {\n",
       "        vertical-align: top;\n",
       "    }\n",
       "\n",
       "    .dataframe thead th {\n",
       "        text-align: right;\n",
       "    }\n",
       "</style>\n",
       "<table border=\"1\" class=\"dataframe\">\n",
       "  <thead>\n",
       "    <tr style=\"text-align: right;\">\n",
       "      <th></th>\n",
       "      <th>reviews</th>\n",
       "      <th>rating</th>\n",
       "      <th>year</th>\n",
       "      <th>old</th>\n",
       "      <th>subject</th>\n",
       "      <th>unreliable</th>\n",
       "      <th>grown</th>\n",
       "      <th>girl</th>\n",
       "      <th>sure</th>\n",
       "      <th>crime</th>\n",
       "    </tr>\n",
       "  </thead>\n",
       "  <tbody>\n",
       "    <tr>\n",
       "      <th>0</th>\n",
       "      <td>local bookseller ever read firmly going either...</td>\n",
       "      <td>1.0</td>\n",
       "      <td>0.068522</td>\n",
       "      <td>0.072439</td>\n",
       "      <td>0.036109</td>\n",
       "      <td>0.02865</td>\n",
       "      <td>0.000000</td>\n",
       "      <td>0.000000</td>\n",
       "      <td>0.00000</td>\n",
       "      <td>0.071625</td>\n",
       "    </tr>\n",
       "    <tr>\n",
       "      <th>1</th>\n",
       "      <td>nymph nymphet never think year old way stain b...</td>\n",
       "      <td>1.0</td>\n",
       "      <td>0.047265</td>\n",
       "      <td>0.049967</td>\n",
       "      <td>0.066419</td>\n",
       "      <td>0.00000</td>\n",
       "      <td>0.000000</td>\n",
       "      <td>0.000000</td>\n",
       "      <td>0.00000</td>\n",
       "      <td>0.019762</td>\n",
       "    </tr>\n",
       "    <tr>\n",
       "      <th>2</th>\n",
       "      <td>going embarrassing know reading enjoying book ...</td>\n",
       "      <td>1.0</td>\n",
       "      <td>0.078394</td>\n",
       "      <td>0.062156</td>\n",
       "      <td>0.000000</td>\n",
       "      <td>0.00000</td>\n",
       "      <td>0.062931</td>\n",
       "      <td>0.074245</td>\n",
       "      <td>0.00000</td>\n",
       "      <td>0.049166</td>\n",
       "    </tr>\n",
       "    <tr>\n",
       "      <th>3</th>\n",
       "      <td>even going write review finishing honestly man...</td>\n",
       "      <td>0.0</td>\n",
       "      <td>0.000000</td>\n",
       "      <td>0.000000</td>\n",
       "      <td>0.000000</td>\n",
       "      <td>0.00000</td>\n",
       "      <td>0.000000</td>\n",
       "      <td>0.000000</td>\n",
       "      <td>0.00000</td>\n",
       "      <td>0.000000</td>\n",
       "    </tr>\n",
       "    <tr>\n",
       "      <th>4</th>\n",
       "      <td>first read book every second pride reader dist...</td>\n",
       "      <td>0.0</td>\n",
       "      <td>0.000000</td>\n",
       "      <td>0.000000</td>\n",
       "      <td>0.000000</td>\n",
       "      <td>0.00000</td>\n",
       "      <td>0.000000</td>\n",
       "      <td>0.000000</td>\n",
       "      <td>0.07359</td>\n",
       "      <td>0.000000</td>\n",
       "    </tr>\n",
       "  </tbody>\n",
       "</table>\n",
       "</div>"
      ],
      "text/plain": [
       "                                             reviews  rating      year  \\\n",
       "0  local bookseller ever read firmly going either...     1.0  0.068522   \n",
       "1  nymph nymphet never think year old way stain b...     1.0  0.047265   \n",
       "2  going embarrassing know reading enjoying book ...     1.0  0.078394   \n",
       "3  even going write review finishing honestly man...     0.0  0.000000   \n",
       "4  first read book every second pride reader dist...     0.0  0.000000   \n",
       "\n",
       "        old   subject  unreliable     grown      girl     sure     crime  \n",
       "0  0.072439  0.036109     0.02865  0.000000  0.000000  0.00000  0.071625  \n",
       "1  0.049967  0.066419     0.00000  0.000000  0.000000  0.00000  0.019762  \n",
       "2  0.062156  0.000000     0.00000  0.062931  0.074245  0.00000  0.049166  \n",
       "3  0.000000  0.000000     0.00000  0.000000  0.000000  0.00000  0.000000  \n",
       "4  0.000000  0.000000     0.00000  0.000000  0.000000  0.07359  0.000000  "
      ]
     },
     "execution_count": 101,
     "metadata": {},
     "output_type": "execute_result"
    }
   ],
   "source": [
    "# in new col, convert ratings from numerical to boolean; 5 stars = 1, > 5 stars = 0\n",
    "five_dict = {5: 1, 4: 0, 3: 0, 2: 0, 1: 0}\n",
    "df['rating'] = df['rating'].replace(five_dict)\n",
    "df.head()"
   ]
  },
  {
   "cell_type": "code",
   "execution_count": 102,
   "id": "467ded31",
   "metadata": {},
   "outputs": [
    {
     "data": {
      "text/plain": [
       "count    5012.000000\n",
       "mean        0.591979\n",
       "std         0.491516\n",
       "min         0.000000\n",
       "25%         0.000000\n",
       "50%         1.000000\n",
       "75%         1.000000\n",
       "max         1.000000\n",
       "Name: rating, dtype: float64"
      ]
     },
     "execution_count": 102,
     "metadata": {},
     "output_type": "execute_result"
    }
   ],
   "source": [
    "# check distribution between class labels\n",
    "df['rating'].describe()"
   ]
  },
  {
   "cell_type": "code",
   "execution_count": 103,
   "id": "154ccb06",
   "metadata": {},
   "outputs": [],
   "source": [
    "from sklearn.linear_model import LogisticRegression\n",
    "from sklearn.model_selection import train_test_split, StratifiedKFold\n",
    "\n",
    "# perform train-test split, stratified to preserve ratio of class labels\n",
    "train, test = train_test_split(df, stratify=df['rating'], random_state=3)\n",
    "train['idx']=range(len(train))\n",
    "train = train.set_index('idx')"
   ]
  },
  {
   "cell_type": "code",
   "execution_count": 104,
   "id": "d443caef",
   "metadata": {},
   "outputs": [
    {
     "data": {
      "text/plain": [
       "rating\n",
       "1.0    2225\n",
       "0.0    1534\n",
       "Name: count, dtype: int64"
      ]
     },
     "execution_count": 104,
     "metadata": {},
     "output_type": "execute_result"
    }
   ],
   "source": [
    "# set the dependent & independent variables. We will use multiple independent variables for this model\n",
    "independent = selected_words\n",
    "\n",
    "x_train = train[independent]\n",
    "y_train = train['rating']\n",
    "x_test = test[independent]\n",
    "y_test = test['rating']\n",
    "\n",
    "y_train.value_counts()"
   ]
  },
  {
   "cell_type": "code",
   "execution_count": 105,
   "id": "dc44d063",
   "metadata": {},
   "outputs": [
    {
     "name": "stdout",
     "output_type": "stream",
     "text": [
      "Iteration  1 \n",
      "accuracy:  0.784           intercept:  [0.32543076] \n",
      " coefficients:  [[14.06878504 -1.68371884 -3.53534617  5.93223952 -5.30898066  1.69848181\n",
      "  -7.29736809 -4.24443198]] \n",
      "\n",
      "Iteration  2 \n",
      "accuracy:  0.784           intercept:  [0.32543076] \n",
      " coefficients:  [[14.06878504 -1.68371884 -3.53534617  5.93223952 -5.30898066  1.69848181\n",
      "  -7.29736809 -4.24443198]] \n",
      "\n",
      "Iteration  3 \n",
      "accuracy:  0.784           intercept:  [0.32543076] \n",
      " coefficients:  [[14.06878504 -1.68371884 -3.53534617  5.93223952 -5.30898066  1.69848181\n",
      "  -7.29736809 -4.24443198]] \n",
      "\n",
      "Iteration  4 \n",
      "accuracy:  0.784           intercept:  [0.32543076] \n",
      " coefficients:  [[14.06878504 -1.68371884 -3.53534617  5.93223952 -5.30898066  1.69848181\n",
      "  -7.29736809 -4.24443198]] \n",
      "\n",
      "Iteration  5 \n",
      "accuracy:  0.784           intercept:  [0.32543076] \n",
      " coefficients:  [[14.06878504 -1.68371884 -3.53534617  5.93223952 -5.30898066  1.69848181\n",
      "  -7.29736809 -4.24443198]] \n",
      "\n",
      "Iteration  6 \n",
      "accuracy:  0.784           intercept:  [0.32543076] \n",
      " coefficients:  [[14.06878504 -1.68371884 -3.53534617  5.93223952 -5.30898066  1.69848181\n",
      "  -7.29736809 -4.24443198]] \n",
      "\n",
      "Iteration  7 \n",
      "accuracy:  0.784           intercept:  [0.32543076] \n",
      " coefficients:  [[14.06878504 -1.68371884 -3.53534617  5.93223952 -5.30898066  1.69848181\n",
      "  -7.29736809 -4.24443198]] \n",
      "\n",
      "Iteration  8 \n",
      "accuracy:  0.784           intercept:  [0.32543076] \n",
      " coefficients:  [[14.06878504 -1.68371884 -3.53534617  5.93223952 -5.30898066  1.69848181\n",
      "  -7.29736809 -4.24443198]] \n",
      "\n",
      "Iteration  9 \n",
      "accuracy:  0.784           intercept:  [0.32543076] \n",
      " coefficients:  [[14.06878504 -1.68371884 -3.53534617  5.93223952 -5.30898066  1.69848181\n",
      "  -7.29736809 -4.24443198]] \n",
      "\n",
      "Iteration  10 \n",
      "accuracy:  0.784           intercept:  [0.32543076] \n",
      " coefficients:  [[14.06878504 -1.68371884 -3.53534617  5.93223952 -5.30898066  1.69848181\n",
      "  -7.29736809 -4.24443198]] \n",
      "\n"
     ]
    }
   ],
   "source": [
    "# 10-fold cross-validation\n",
    "kfold = StratifiedKFold(n_splits = 10)\n",
    "logistic = LogisticRegression()\n",
    "\n",
    "scores = []\n",
    "intercepts=[]\n",
    "year_coef=[]\n",
    "old_coef=[]\n",
    "subject_coef=[]\n",
    "unreliable_coef=[]\n",
    "grown_coef=[]\n",
    "girl_coef=[]\n",
    "sure_coef=[]\n",
    "crime_coef=[]\n",
    "\n",
    "results_lists=[scores, intercepts, year_coef, old_coef, subject_coef, unreliable_coef,grown_coef,\n",
    "               girl_coef,sure_coef,crime_coef]\n",
    "\n",
    "counter = 1\n",
    "# for each of the 10 splits\n",
    "for train_idx, test_idx in kfold.split(x_train, y_train):\n",
    "    # set dependent & independent variables for the validation\n",
    "    x_trn_fold, x_tst_fold = x_train.loc[train_idx], x_train.loc[test_idx]\n",
    "    y_trn_fold, y_tst_fold = y_train.loc[train_idx], y_train.loc[test_idx]\n",
    "    # fit logistic regression model\n",
    "    logistic.fit(x_trn_fold, y_trn_fold)\n",
    "    \n",
    "    # calculate model accuracy & record estimated parameters\n",
    "    #score = logistic.score(x_tst_fold,y_tst_fold)\n",
    "    scores.append(logistic.score(x_tst_fold,y_tst_fold))\n",
    "    intercepts.append(logistic.intercept_)\n",
    "    for i in range(8):\n",
    "        results_lists[i+2].append(logistic.coef_[0][i])\n",
    "    \n",
    "    print(\"Iteration \", counter, \"\\naccuracy: \", score, \"          intercept: \", intercept, \n",
    "          \"\\n coefficients: \", coefs,\"\\n\")\n",
    "    counter += 1"
   ]
  },
  {
   "cell_type": "code",
   "execution_count": 106,
   "id": "08c1f222",
   "metadata": {},
   "outputs": [
    {
     "name": "stdout",
     "output_type": "stream",
     "text": [
      "avg accuracy: 0.7895702127659575\n",
      "avg intercept est: [0.32450044]\n",
      "average coefficient estimates: \n",
      "'year': 14.064844822327064\n",
      "'old': -1.6937995952632168\n",
      "'subject': -33.6227908512463\n",
      "'unreliable': 5.816364014786968\n",
      "'grown': -5.400658674393614\n",
      "'girl': 1.8542619484600293\n",
      "'sure': -7.337653670075892\n",
      "'crime': -4.28760369091506\n"
     ]
    }
   ],
   "source": [
    "print(f\"avg accuracy: {sum(results_lists[0])/10}\\navg intercept est: {sum(results_lists[1])/10}\")\n",
    "print(\"average coefficient estimates: \")\n",
    "print(f\"'year': {sum(results_lists[2])/10}\\n'old': {sum(results_lists[3])/10}\\n'subject': {sum(results_lists[4])}\")\n",
    "print(f\"'unreliable': {sum(results_lists[5])/10}\\n'grown': {sum(results_lists[6])/10}\")\n",
    "print(f\"'girl': {sum(results_lists[7])/10}\\n'sure': {sum(results_lists[8])/10}\\n'crime': {sum(results_lists[9])/10}\")"
   ]
  },
  {
   "cell_type": "code",
   "execution_count": 107,
   "id": "6e64ba14",
   "metadata": {},
   "outputs": [
    {
     "name": "stdout",
     "output_type": "stream",
     "text": [
      "accuracy: 0.7932960893854749, mean squared error: 0.20670391061452514, r^2: 0.144094081157922\n"
     ]
    }
   ],
   "source": [
    "# use last validated model on testing data\n",
    "y_pred = logistic.predict(x_test)\n",
    "\n",
    "logistic.set_params()\n",
    "\n",
    "from sklearn.metrics import confusion_matrix, ConfusionMatrixDisplay, accuracy_score, mean_squared_error, r2_score\n",
    "\n",
    "# calculate model accuracy & mean squared error\n",
    "accuracy = accuracy_score(y_test, y_pred, normalize=True)\n",
    "mse = mean_squared_error(y_test, y_pred)\n",
    "r2 = r2_score(y_test, y_pred)\n",
    "\n",
    "accuracy, mse, r2\n",
    "\n",
    "print(f\"accuracy: {accuracy}, mean squared error: {mse}, r^2: {r2}\")"
   ]
  },
  {
   "cell_type": "code",
   "execution_count": 108,
   "id": "dbf9bc80",
   "metadata": {},
   "outputs": [
    {
     "data": {
      "text/plain": [
       "<sklearn.metrics._plot.confusion_matrix.ConfusionMatrixDisplay at 0x289ec94f490>"
      ]
     },
     "execution_count": 108,
     "metadata": {},
     "output_type": "execute_result"
    },
    {
     "data": {
      "image/png": "[encoded data removed]",
      "text/plain": [
       "<Figure size 640x480 with 2 Axes>"
      ]
     },
     "metadata": {},
     "output_type": "display_data"
    }
   ],
   "source": [
    "# model confusion matrix\n",
    "metrics = confusion_matrix(y_test, y_pred)\n",
    "cm = ConfusionMatrixDisplay(metrics, display_labels=['< 5 stars', '5 stars'])\n",
    "cm.plot(cmap=\"RdYlBu\")"
   ]
  }
 ],
 "metadata": {
  "kernelspec": {
   "display_name": "Python 3 (ipykernel)",
   "language": "python",
   "name": "python3"
  },
  "language_info": {
   "codemirror_mode": {
    "name": "ipython",
    "version": 3
   },
   "file_extension": ".py",
   "mimetype": "text/x-python",
   "name": "python",
   "nbconvert_exporter": "python",
   "pygments_lexer": "ipython3",
   "version": "3.11.9"
  }
 },
 "nbformat": 4,
 "nbformat_minor": 5
}
